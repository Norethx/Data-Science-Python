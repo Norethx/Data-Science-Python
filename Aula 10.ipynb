{
 "cells": [
  {
   "cell_type": "code",
   "execution_count": 3,
   "id": "5294fd04-c49c-4704-97dc-6e17013264ed",
   "metadata": {},
   "outputs": [
    {
     "name": "stdout",
     "output_type": "stream",
     "text": [
      "200\n",
      "Maior valor:  45\n",
      "Menor valor:  1\n",
      "Soma:  108\n",
      "arredondamento:  2.35\n"
     ]
    }
   ],
   "source": [
    "#funções internas\n",
    "print(abs(-200))\n",
    "lst = [1,2,30,30,45]\n",
    "print('Maior valor: ', max(lst))\n",
    "print('Menor valor: ', min(lst))\n",
    "print('Soma: ', sum(lst))\n",
    "print('arredondamento: ', round(2.34567,2))"
   ]
  },
  {
   "cell_type": "code",
   "execution_count": 4,
   "id": "4d130fc9-681c-46bd-8daf-7687318b5098",
   "metadata": {},
   "outputs": [
    {
     "name": "stdout",
     "output_type": "stream",
     "text": [
      "média:  21.6\n",
      "mediana:  30\n",
      "moda:  30\n"
     ]
    }
   ],
   "source": [
    "#estatistica\n",
    "from statistics import *\n",
    "print('média: ', mean(lst))\n",
    "print('mediana: ',median(lst))\n",
    "print('moda: ', mode(lst))"
   ]
  },
  {
   "cell_type": "code",
   "execution_count": 5,
   "id": "55d86faf-2325-489c-9f2a-b70be3fdd776",
   "metadata": {},
   "outputs": [
    {
     "name": "stdout",
     "output_type": "stream",
     "text": [
      "Desvio padrão:  19.346834366376324\n"
     ]
    }
   ],
   "source": [
    "#desvio padrao\n",
    "print('Desvio padrão: ', stdev(lst))"
   ]
  },
  {
   "cell_type": "code",
   "execution_count": 6,
   "id": "ce602382-6880-4890-b4b8-e2dae6bba51f",
   "metadata": {},
   "outputs": [
    {
     "name": "stdout",
     "output_type": "stream",
     "text": [
      "<class 'numpy.ndarray'>\n",
      "[[0.1506427  0.79918036 0.07979099 0.98933799 0.39895768 0.80909819\n",
      "  0.61751562 0.39977704]\n",
      " [0.91688094 0.93851405 0.26935187 0.6306681  0.57050512 0.8280967\n",
      "  0.58720521 0.08794429]\n",
      " [0.34778493 0.71483025 0.47113612 0.46946585 0.1150272  0.62486004\n",
      "  0.3259434  0.86165452]\n",
      " [0.69945864 0.10702112 0.74045536 0.92978778 0.7352026  0.61607674\n",
      "  0.07003427 0.64316571]\n",
      " [0.28707272 0.11501571 0.44286276 0.87131837 0.41099723 0.61855503\n",
      "  0.31766932 0.73280779]\n",
      " [0.41039011 0.49716728 0.3273516  0.4200717  0.83058922 0.16608199\n",
      "  0.13260435 0.78311313]\n",
      " [0.41001494 0.79245736 0.57193533 0.70965141 0.30189921 0.85891688\n",
      "  0.78741407 0.25228562]\n",
      " [0.88650345 0.32805692 0.36547937 0.50981142 0.13756083 0.69411037\n",
      "  0.22899737 0.5739947 ]]\n"
     ]
    }
   ],
   "source": [
    "from numpy import *\n",
    "a = random.random((8,8))\n",
    "print(type(a))\n",
    "print(a)"
   ]
  }
 ],
 "metadata": {
  "kernelspec": {
   "display_name": "Python 3 (ipykernel)",
   "language": "python",
   "name": "python3"
  },
  "language_info": {
   "codemirror_mode": {
    "name": "ipython",
    "version": 3
   },
   "file_extension": ".py",
   "mimetype": "text/x-python",
   "name": "python",
   "nbconvert_exporter": "python",
   "pygments_lexer": "ipython3",
   "version": "3.11.7"
  }
 },
 "nbformat": 4,
 "nbformat_minor": 5
}
