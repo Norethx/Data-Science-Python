{
 "cells": [
  {
   "cell_type": "code",
   "execution_count": 1,
   "id": "3204ec6a-a7dc-4846-b942-1e2ed76e615b",
   "metadata": {},
   "outputs": [
    {
     "name": "stdout",
     "output_type": "stream",
     "text": [
      "esta é uma função\n"
     ]
    }
   ],
   "source": [
    "def imprime():\n",
    "    print(\"esta é uma função\")\n",
    "\n",
    "imprime()"
   ]
  },
  {
   "cell_type": "code",
   "execution_count": 2,
   "id": "958889d9-03d7-48df-ba3c-c98dc5711ac2",
   "metadata": {},
   "outputs": [
    {
     "name": "stdout",
     "output_type": "stream",
     "text": [
      "impressão deste texto\n"
     ]
    }
   ],
   "source": [
    "#com parametro\n",
    "def imprime(n):\n",
    "    print(n)\n",
    "\n",
    "imprime('impressão deste texto')"
   ]
  },
  {
   "cell_type": "code",
   "execution_count": 3,
   "id": "5eac790e-689b-4f29-a8b1-28f343a1ba17",
   "metadata": {},
   "outputs": [
    {
     "name": "stdout",
     "output_type": "stream",
     "text": [
      "9\n"
     ]
    }
   ],
   "source": [
    "#com retorno\n",
    "def potencia(n):\n",
    "    return n*n\n",
    "x = potencia(3)\n",
    "print(x)"
   ]
  },
  {
   "cell_type": "code",
   "execution_count": 5,
   "id": "b061db8d-6c6b-46d4-a856-b6edbab296ab",
   "metadata": {},
   "outputs": [
    {
     "name": "stdout",
     "output_type": "stream",
     "text": [
      "5\n",
      "6\n",
      "7\n",
      "8\n",
      "9\n",
      "10\n",
      "1\n",
      "2\n",
      "3\n",
      "4\n",
      "5\n",
      "6\n",
      "7\n",
      "8\n",
      "9\n",
      "10\n"
     ]
    }
   ],
   "source": [
    "#com valor default\n",
    "def intervalo(inic=1,fim=10):\n",
    "    for inic in range(inic, fim+1):\n",
    "            print(inic)\n",
    "\n",
    "x = intervalo(5,10)\n",
    "y = intervalo()"
   ]
  }
 ],
 "metadata": {
  "kernelspec": {
   "display_name": "Python 3 (ipykernel)",
   "language": "python",
   "name": "python3"
  },
  "language_info": {
   "codemirror_mode": {
    "name": "ipython",
    "version": 3
   },
   "file_extension": ".py",
   "mimetype": "text/x-python",
   "name": "python",
   "nbconvert_exporter": "python",
   "pygments_lexer": "ipython3",
   "version": "3.11.7"
  }
 },
 "nbformat": 4,
 "nbformat_minor": 5
}
