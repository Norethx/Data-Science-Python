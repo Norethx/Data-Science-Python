{
 "cells": [
  {
   "cell_type": "code",
   "execution_count": 2,
   "id": "9d313fb5-dddf-4fe5-a32e-bee56e21ce89",
   "metadata": {},
   "outputs": [
    {
     "name": "stdout",
     "output_type": "stream",
     "text": [
      "Aprovado\n",
      "Parabens!\n"
     ]
    }
   ],
   "source": [
    "nota = 7\n",
    "if nota >= 7:\n",
    "    print('Aprovado')\n",
    "    print('Parabens!')\n",
    "else:\n",
    "    print('reprovado')\n",
    "    print('Parabens!')\n"
   ]
  },
  {
   "cell_type": "code",
   "execution_count": 3,
   "id": "f4163aab-dbe7-422e-9213-21cd0ef545db",
   "metadata": {},
   "outputs": [
    {
     "name": "stdout",
     "output_type": "stream",
     "text": [
      "reprovado\n",
      "Parabens!\n"
     ]
    }
   ],
   "source": [
    "#só mudar o valor da variavel\n",
    "nota = 5\n",
    "if nota >= 7:\n",
    "    print('Aprovado')\n",
    "    print('Parabens!')\n",
    "else:\n",
    "    print('reprovado')\n",
    "    print('Parabens!')\n"
   ]
  },
  {
   "cell_type": "code",
   "execution_count": 10,
   "id": "e7fb0d4a-efea-4021-880d-f840ae74aefe",
   "metadata": {},
   "outputs": [
    {
     "name": "stdout",
     "output_type": "stream",
     "text": [
      "Aprovado\n"
     ]
    }
   ],
   "source": [
    "# Testar com 4, 5 e 7\n",
    "nota = 7\n",
    "if nota <= 4:\n",
    "    print('Reprovado')\n",
    "elif nota  > 4 and nota <= 6:\n",
    "    print('Exame')\n",
    "else:\n",
    "    print('Aprovado')"
   ]
  }
 ],
 "metadata": {
  "kernelspec": {
   "display_name": "Python 3 (ipykernel)",
   "language": "python",
   "name": "python3"
  },
  "language_info": {
   "codemirror_mode": {
    "name": "ipython",
    "version": 3
   },
   "file_extension": ".py",
   "mimetype": "text/x-python",
   "name": "python",
   "nbconvert_exporter": "python",
   "pygments_lexer": "ipython3",
   "version": "3.11.7"
  }
 },
 "nbformat": 4,
 "nbformat_minor": 5
}
