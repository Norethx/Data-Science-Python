{
 "cells": [
  {
   "cell_type": "code",
   "execution_count": 1,
   "id": "5d8d6af6-aa9e-49f8-b5ed-a074b61c1cbf",
   "metadata": {},
   "outputs": [],
   "source": [
    "import numpy as np"
   ]
  },
  {
   "cell_type": "code",
   "execution_count": 2,
   "id": "b4713bf8-55c4-48a7-8704-9b57f7d97e78",
   "metadata": {},
   "outputs": [
    {
     "name": "stdout",
     "output_type": "stream",
     "text": [
      "[12 34 26 19 10]\n",
      "<class 'numpy.ndarray'>\n"
     ]
    }
   ],
   "source": [
    "#cria uma matriz unidimensional\n",
    "um = np.array([12,34,26,19,10])\n",
    "print(um)\n",
    "print(type(um))"
   ]
  },
  {
   "cell_type": "code",
   "execution_count": 4,
   "id": "963d2a76-2c08-49de-b9c1-b4437543b3d6",
   "metadata": {},
   "outputs": [
    {
     "name": "stdout",
     "output_type": "stream",
     "text": [
      "[1. 2. 3.]\n",
      "<class 'numpy.ndarray'>\n",
      "[1 2 3]\n",
      "<class 'numpy.ndarray'>\n"
     ]
    }
   ],
   "source": [
    "#criar o array com um tipo especifico\n",
    "# cria o array como float de 64 bits\n",
    "mtfloat = np.array([1,2,3],dtype = np.float64)\n",
    "print(mtfloat)\n",
    "print(type(mtfloat))\n",
    "mtint = np.array([1,2,3],dtype = np.int32)\n",
    "print(mtint)\n",
    "print(type(mtint))"
   ]
  },
  {
   "cell_type": "code",
   "execution_count": 5,
   "id": "7c47e1db-48ef-4fd7-b936-fd69f883d844",
   "metadata": {},
   "outputs": [
    {
     "name": "stdout",
     "output_type": "stream",
     "text": [
      "[ 1.4      3.6     -5.1      9.42     4.99999]\n",
      "[ 1  3 -5  9  4]\n"
     ]
    }
   ],
   "source": [
    "#mudar o tipo do array\n",
    "# Podemos transformar tipos de dados de arrays\n",
    "mtnew = np.array([1.4,3.6,-5.1,9.42,4.99999])\n",
    "print(mtnew)\n",
    "# quando transformamos de float para int os valores são truncados\n",
    "mtnewint = mtnew.astype(np.int32)\n",
    "print(mtnewint)"
   ]
  },
  {
   "cell_type": "code",
   "execution_count": 6,
   "id": "ee6fc51a-be48-48a3-8f74-3d20317f0db4",
   "metadata": {},
   "outputs": [
    {
     "name": "stdout",
     "output_type": "stream",
     "text": [
      "[1 2 3 4]\n",
      "[1. 2. 3. 4.]\n"
     ]
    }
   ],
   "source": [
    "# podemos fazer o inverso tambem\n",
    "mt5 = np.array([1,2,3,4])\n",
    "print(mt5)\n",
    "mt6 = mt5.astype(float)\n",
    "print(mt6)"
   ]
  },
  {
   "cell_type": "code",
   "execution_count": 7,
   "id": "0375f424-7a2a-4363-a9cb-1a6ada6a4db2",
   "metadata": {},
   "outputs": [
    {
     "name": "stdout",
     "output_type": "stream",
     "text": [
      "[[ 7  2 23]\n",
      " [12 27  4]\n",
      " [ 5 34 23]]\n"
     ]
    }
   ],
   "source": [
    "#mais de uma dimensão\n",
    "#cria uma matriz bidimensional\n",
    "mt7 = np.array([[7,2,23],[12,27,4],[5,34,23]])\n",
    "print(mt7)"
   ]
  },
  {
   "cell_type": "code",
   "execution_count": 8,
   "id": "601af294-6d6b-4f6a-9af1-f1e2036eb30e",
   "metadata": {},
   "outputs": [
    {
     "name": "stdout",
     "output_type": "stream",
     "text": [
      "[[         0 1072693248]\n",
      " [         0 1073741824]\n",
      " [         0 1074266112]]\n",
      "------\n",
      "[[0. 0. 0.]\n",
      " [0. 0. 0.]\n",
      " [0. 0. 0.]\n",
      " [0. 0. 0.]]\n",
      "------\n",
      "[[1. 1. 1. 1. 1. 1. 1.]\n",
      " [1. 1. 1. 1. 1. 1. 1.]\n",
      " [1. 1. 1. 1. 1. 1. 1.]\n",
      " [1. 1. 1. 1. 1. 1. 1.]\n",
      " [1. 1. 1. 1. 1. 1. 1.]]\n",
      "------\n",
      "[[1. 0. 0. 0. 0.]\n",
      " [0. 1. 0. 0. 0.]\n",
      " [0. 0. 1. 0. 0.]\n",
      " [0. 0. 0. 1. 0.]\n",
      " [0. 0. 0. 0. 1.]]\n"
     ]
    }
   ],
   "source": [
    "#criar arrays vazios tipificados\n",
    "#empty siginifica que são inicializados, não que são vazios\n",
    "vazio = np.empty([3,2], dtype = int)\n",
    "print(vazio)\n",
    "print('------')\n",
    "#cria uma matriz 4x3 com valores zero\n",
    "zeros = np.zeros([4,3])\n",
    "print(zeros)\n",
    "print('------')\n",
    "#com valores igual a um\n",
    "um = np.ones([5,7])\n",
    "print(um)\n",
    "print('------')\n",
    "# cria matriz quadrada com diagonal principal com valores 1 e os outros valores zero\n",
    "diagonal = np.eye(5)\n",
    "print(diagonal)"
   ]
  },
  {
   "cell_type": "code",
   "execution_count": 9,
   "id": "d3f9ab29-edae-4ad1-88ae-879726bc408e",
   "metadata": {},
   "outputs": [
    {
     "name": "stdout",
     "output_type": "stream",
     "text": [
      "[0.20243425 0.38718833 0.03867755 0.17961386 0.85987243]\n",
      "---------\n",
      "[-0.12966922 -2.13045576 -0.50216682 -0.77696219 -1.57124956]\n",
      "----------\n",
      "[[5.27281472 4.15761249 4.74823924 9.43374625]\n",
      " [9.73244715 4.9881611  1.81517656 8.69460001]\n",
      " [4.04120551 6.21338476 5.7283529  9.43392513]]\n"
     ]
    }
   ],
   "source": [
    "#valores aleatorios entre zero e um\n",
    "ale = np.random.random((5))\n",
    "print(ale)\n",
    "print('---------')\n",
    "#valores aleatorios distr. normal contendo negativos\n",
    "ale2 = np.random.randn((5))\n",
    "print(ale2)\n",
    "print(\"----------\")\n",
    "#valores aleatorios 3 x 4\n",
    "ale3 = (10*np.random.random((3,4)))\n",
    "print(ale3)"
   ]
  },
  {
   "cell_type": "code",
   "execution_count": 12,
   "id": "0adc4227-6358-4b76-9bd7-0f66fbcd212b",
   "metadata": {},
   "outputs": [
    {
     "name": "stdout",
     "output_type": "stream",
     "text": [
      "[0.51182162 0.9504637  0.14415961]\n",
      "[[8 9 2 3]\n",
      " [8 4 2 8]\n",
      " [2 4 6 5]]\n"
     ]
    }
   ],
   "source": [
    "#outra forma de gerar aleatorios\n",
    "#uso de semente\n",
    "gnr = np.random.default_rng(1)\n",
    "ale5 = gnr.random(3)\n",
    "print (ale5)\n",
    "\n",
    "#gerar inteiros\n",
    "ale6 = gnr.integers(10, size=(3,4))\n",
    "print(ale6)"
   ]
  },
  {
   "cell_type": "code",
   "execution_count": 13,
   "id": "9b1b5575-850b-4e98-b91e-52905b9e935f",
   "metadata": {},
   "outputs": [
    {
     "name": "stdout",
     "output_type": "stream",
     "text": [
      "[11 12 13 14 15 16 17 18 19 29]\n"
     ]
    }
   ],
   "source": [
    "#unique remove repetições\n",
    "j = np.array([11,12,13,14,15,16,17,12,13,11,18,19,20])\n",
    "j = np.unique(j)\n",
    "print(j)"
   ]
  },
  {
   "cell_type": "code",
   "execution_count": 14,
   "id": "16f8f5bb-21fa-471b-881f-75917db09700",
   "metadata": {},
   "outputs": [
    {
     "name": "stdout",
     "output_type": "stream",
     "text": [
      "[[17 22 43]\n",
      " [27 25 14]\n",
      " [15 24 32]]\n",
      "22\n",
      "(3, 3)\n"
     ]
    }
   ],
   "source": [
    "#fungções especificas\n",
    "# cria a matriz bidimensional k\n",
    "k = np.array([[17,22,43],[27,25,14],[15,24,32]])\n",
    "# mostra a matriz k\n",
    "print(k)\n",
    "#mostra um elemento especifico da matriz k\n",
    "print(k[0][1])\n",
    "#mostra o tamanho das dimensões da matriz k\n",
    "print(k.shape)"
   ]
  },
  {
   "cell_type": "code",
   "execution_count": 15,
   "id": "b5c8c6b0-6c4e-4d40-a985-51a287d66244",
   "metadata": {},
   "outputs": [
    {
     "name": "stdout",
     "output_type": "stream",
     "text": [
      "43\n",
      "14\n",
      "219\n",
      "24.333333333333332\n",
      "8.615231988880057\n"
     ]
    }
   ],
   "source": [
    "#Funções matematicas\n",
    "# Mostra o maior valor da matriz k\n",
    "print(k.max())\n",
    "#Mostra o menor valor da matriz k\n",
    "print(k.min())\n",
    "#mostra a soma da matriz k\n",
    "print(k.sum())\n",
    "#mostra o valor da medio dos valores da matriz k\n",
    "print(k.mean())\n",
    "#mostra o valor do desvio padrao(standard deviation) dos valores da matriz k\n",
    "print(k.std())"
   ]
  },
  {
   "cell_type": "code",
   "execution_count": 17,
   "id": "cd2906e6-ad3c-4008-ab6f-7f8ad3424c99",
   "metadata": {},
   "outputs": [
    {
     "name": "stdout",
     "output_type": "stream",
     "text": [
      "[1. 2. 3. 4. 5. 6.]\n",
      "[2.71828183e+00 5.45981500e+01 8.10308393e+03 8.88611052e+06\n",
      " 7.20048993e+10 4.31123155e+15]\n"
     ]
    }
   ],
   "source": [
    "#Funnções universais, aplicadas a todos os elementos\n",
    "# Mostra o valor da raiz quadrada de todos os elementos\n",
    "kl = np.array([1,4,9,16,25,36])\n",
    "print(np.sqrt(kl))\n",
    "#Mostra o valor da exponencial de todos os elementos\n",
    "print(np.exp(kl))"
   ]
  },
  {
   "cell_type": "code",
   "execution_count": 18,
   "id": "ad368a13-709e-49ba-b339-0bcdb067301b",
   "metadata": {},
   "outputs": [
    {
     "name": "stdout",
     "output_type": "stream",
     "text": [
      "2\n",
      "----------\n",
      "[1 2]\n",
      "----------\n",
      "[2 3 4 5 6]\n",
      "-----------\n",
      "[4 5 6]\n"
     ]
    }
   ],
   "source": [
    "#extração de alementos\n",
    "m = np.array([1,2,3,4,5,6])\n",
    "# Mostra o elemento da posição 2\n",
    "print(m[1])\n",
    "print('----------')\n",
    "#Mostra o array criado a partir da posição 0, dois elementos\n",
    "print(m[0:2])\n",
    "print('----------')\n",
    "#Mostra o array criado a partir da 2ª posição\n",
    "# até todo o restante do array\n",
    "print(m[1:])\n",
    "print('-----------')\n",
    "#Mostra o array criado a partir da antepenultima posição até o final\n",
    "print(m[-3:])"
   ]
  },
  {
   "cell_type": "code",
   "execution_count": 20,
   "id": "88a7b018-10b9-429a-b96c-86f935a9e740",
   "metadata": {},
   "outputs": [
    {
     "name": "stdout",
     "output_type": "stream",
     "text": [
      "[[4 5]\n",
      " [6 1]\n",
      " [7 4]]\n",
      "-----------\n",
      "[4 5]\n",
      "-----------\n",
      "[6 1]\n",
      "-----------\n",
      "[7 4]\n",
      "----------\n",
      "[4 6 7]\n",
      "----------\n",
      "[5 1 4]\n",
      "-----------\n"
     ]
    }
   ],
   "source": [
    "#extração de linhas e colunas\n",
    "l = np.array([[4,5],[6,1],[7,4]])\n",
    "print(l)\n",
    "print('-----------')\n",
    "#primeira linha todas as colunas\n",
    "l_linha_1 = l[0, :]\n",
    "print(l_linha_1)\n",
    "print('-----------')\n",
    "#segunda linha\n",
    "l_linha_2 = l[1,:]\n",
    "print(l_linha_2)\n",
    "print('-----------')\n",
    "#terceira linha\n",
    "l_linha_3 = l[2,:]\n",
    "print(l_linha_3)\n",
    "print('----------')\n",
    "#todas as linhas, primeira coluna\n",
    "l_coluna_1 = l[:,0]\n",
    "print(l_coluna_1)\n",
    "print('----------')\n",
    "#todas as linhas, segunda coluna\n",
    "l_coluna_2 = l[:,1]\n",
    "print(l_coluna_2)\n",
    "print('-----------')"
   ]
  },
  {
   "cell_type": "code",
   "execution_count": 22,
   "id": "fcb7ecbb-144f-4513-bd9c-e81ddaf56ccf",
   "metadata": {},
   "outputs": [
    {
     "name": "stdout",
     "output_type": "stream",
     "text": [
      "[[2 3]\n",
      " [4 5]]\n",
      "-----------\n",
      "[[1 2]\n",
      " [3 4]]\n",
      "-----------\n",
      "[[3 3]\n",
      " [5 5]\n",
      " [7 7]]\n"
     ]
    }
   ],
   "source": [
    "# adição e multiplicação de matrizes\n",
    "n = np.array([[1,2], [3,4]])\n",
    "o = np.array([[1,1], [1,1]])\n",
    "res1 = n+o\n",
    "print(res1)\n",
    "print('-----------')\n",
    "res2 = n*o\n",
    "print(res2)\n",
    "print('-----------')\n",
    "p = np.array([[1,2],[3,4],[5,6]])\n",
    "q = np.array([[2,1]])\n",
    "print(p+q)"
   ]
  },
  {
   "cell_type": "code",
   "execution_count": 23,
   "id": "733eb074-7303-4599-8fff-6698f40dc75c",
   "metadata": {},
   "outputs": [
    {
     "name": "stdout",
     "output_type": "stream",
     "text": [
      "[[ 0  1  2  3  4]\n",
      " [ 5  6  7  8  9]\n",
      " [10 11 12 13 14]]\n",
      "-----------\n",
      "[[ 0  5 10]\n",
      " [ 1  6 11]\n",
      " [ 2  7 12]\n",
      " [ 3  8 13]\n",
      " [ 4  9 14]]\n"
     ]
    }
   ],
   "source": [
    "#trabsposição, rearranja um conjutno de 15 elementos de 0 a 14 em 3 linhas e 3 colunas\n",
    "f = np.arange(15).reshape((3,5))\n",
    "# mostra a matrizes transposta entre linha e coluna\n",
    "print(f)\n",
    "print('-----------')\n",
    "s= f.T\n",
    "print(s)"
   ]
  },
  {
   "cell_type": "code",
   "execution_count": 24,
   "id": "da6cd08f-a793-48df-987b-35ba0be03e42",
   "metadata": {},
   "outputs": [
    {
     "name": "stdout",
     "output_type": "stream",
     "text": [
      "[[ 0  1  2  3  4]\n",
      " [ 5  6  7  8  9]\n",
      " [10 11 12 13 14]]\n",
      "----------\n",
      "[[ 0  5 10]\n",
      " [ 1  6 11]\n",
      " [ 2  7 12]\n",
      " [ 3  8 13]\n",
      " [ 4  9 14]]\n"
     ]
    }
   ],
   "source": [
    "#outra forma de fazer o mesmo resultado\n",
    "r = np.arange(15).reshape((3,5))\n",
    "#mostra a matrizes transposta entre linha e coluna\n",
    "print(r)\n",
    "print('----------')\n",
    "# rearranja um conjunto de 15 elementos\n",
    "# mostra a matrizes transposta entre linha e coluna\n",
    "s = r.transpose((1,0))\n",
    "print(s)"
   ]
  },
  {
   "cell_type": "code",
   "execution_count": 25,
   "id": "44cb99b2-4ea3-4cd2-8e89-23c5b1a4d794",
   "metadata": {},
   "outputs": [
    {
     "name": "stdout",
     "output_type": "stream",
     "text": [
      "[[-1.3429638  -1.01115587 -0.0384869   0.38184152]\n",
      " [ 0.54411068  1.18451351  0.14497221  0.87554169]\n",
      " [-0.76585305 -1.04168185 -0.72506556  0.24692082]\n",
      " [-0.81021373  0.64593338 -1.217851    0.14893481]]\n",
      "[[False False False  True]\n",
      " [ True  True  True  True]\n",
      " [False False False  True]\n",
      " [False  True False  True]]\n",
      "[[-1 -1 -1  1]\n",
      " [ 1  1  1  1]\n",
      " [-1 -1 -1  1]\n",
      " [-1  1 -1  1]]\n"
     ]
    }
   ],
   "source": [
    "#expressões lógicas\n",
    "# usando where\n",
    "# criando matriz com valores aleatorios positivos e negativos\n",
    "v = np.random.randn(4,4)\n",
    "print(v)\n",
    "#criando matriz com valores booleanos baseado na array v\n",
    "x = (v > 0)\n",
    "print(x)\n",
    "# criando matrriz com valores -1 e 1 baseado nos valores do array x\n",
    "z = np.where(x > 0, 1, -1)\n",
    "print(z)"
   ]
  }
 ],
 "metadata": {
  "kernelspec": {
   "display_name": "Python 3 (ipykernel)",
   "language": "python",
   "name": "python3"
  },
  "language_info": {
   "codemirror_mode": {
    "name": "ipython",
    "version": 3
   },
   "file_extension": ".py",
   "mimetype": "text/x-python",
   "name": "python",
   "nbconvert_exporter": "python",
   "pygments_lexer": "ipython3",
   "version": "3.11.7"
  }
 },
 "nbformat": 4,
 "nbformat_minor": 5
}
