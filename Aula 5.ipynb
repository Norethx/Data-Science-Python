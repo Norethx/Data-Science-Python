{
 "cells": [
  {
   "cell_type": "code",
   "execution_count": 1,
   "id": "1cd75688-bb92-4057-9ad5-3eb67603bd37",
   "metadata": {},
   "outputs": [
    {
     "name": "stdout",
     "output_type": "stream",
     "text": [
      "{'Joao': 6.0, 'Maria': 8.0, 'Pedro': 6.5}\n"
     ]
    }
   ],
   "source": [
    "#dicionarios: chave/valor\n",
    "notas = {'Joao':6.0,'Maria':8.0,'Pedro':6.5}\n",
    "print(notas)"
   ]
  },
  {
   "cell_type": "code",
   "execution_count": 3,
   "id": "e8bfcf14-eeb4-486f-9ad2-f252480c0c2c",
   "metadata": {},
   "outputs": [
    {
     "name": "stdout",
     "output_type": "stream",
     "text": [
      "6.0\n"
     ]
    }
   ],
   "source": [
    "print(notas['Joao'])"
   ]
  },
  {
   "cell_type": "code",
   "execution_count": 5,
   "id": "148f3632-461c-40c4-9e8f-92464a6f0801",
   "metadata": {},
   "outputs": [
    {
     "data": {
      "text/plain": [
       "dict_keys(['Joao', 'Maria', 'Pedro'])"
      ]
     },
     "execution_count": 5,
     "metadata": {},
     "output_type": "execute_result"
    }
   ],
   "source": [
    "#todas as keys(chaves)\n",
    "notas.keys()"
   ]
  },
  {
   "cell_type": "code",
   "execution_count": 6,
   "id": "b1e67e2a-2538-4611-810f-e2f51a9b3ec3",
   "metadata": {},
   "outputs": [
    {
     "data": {
      "text/plain": [
       "dict_values([6.0, 8.0, 6.5])"
      ]
     },
     "execution_count": 6,
     "metadata": {},
     "output_type": "execute_result"
    }
   ],
   "source": [
    "#todos os valores\n",
    "notas.values()"
   ]
  },
  {
   "cell_type": "code",
   "execution_count": 7,
   "id": "6a619965-8e43-49b3-a02c-fc8e22044363",
   "metadata": {},
   "outputs": [
    {
     "name": "stdout",
     "output_type": "stream",
     "text": [
      "True\n",
      "False\n"
     ]
    }
   ],
   "source": [
    "#testa logicamente a existencia\n",
    "print('Joao' in notas)\n",
    "print('Fernando' in notas)"
   ]
  },
  {
   "cell_type": "code",
   "execution_count": 8,
   "id": "e0eb0161-cc90-4f51-a2d0-e6e19ba81d3f",
   "metadata": {},
   "outputs": [
    {
     "name": "stdout",
     "output_type": "stream",
     "text": [
      "{'Maria': 8.0, 'Pedro': 6.5}\n"
     ]
    }
   ],
   "source": [
    "#apaga um elemento\n",
    "del notas['Joao']\n",
    "print(notas)"
   ]
  },
  {
   "cell_type": "code",
   "execution_count": 9,
   "id": "130fbc7c-f52b-4ede-a3e1-c992d6010e11",
   "metadata": {},
   "outputs": [
    {
     "name": "stdout",
     "output_type": "stream",
     "text": [
      "{'Maria': 8.0, 'Pedro': 6.5, 'Ana': 9}\n"
     ]
    }
   ],
   "source": [
    "#inclui elemento\n",
    "notas['Ana'] = 9\n",
    "print(notas)"
   ]
  },
  {
   "cell_type": "code",
   "execution_count": 12,
   "id": "48cac006-d4bf-4465-916b-25aef132ddab",
   "metadata": {},
   "outputs": [
    {
     "data": {
      "text/plain": [
       "'Não encontrado!'"
      ]
     },
     "execution_count": 12,
     "metadata": {},
     "output_type": "execute_result"
    }
   ],
   "source": [
    "#busca um valor, se não encontrar mostra segundo parametro\n",
    "notas.get('Geraldo','Não encontrado!')"
   ]
  },
  {
   "cell_type": "code",
   "execution_count": 13,
   "id": "47095850-0424-442f-9541-d24f5ff9d4af",
   "metadata": {},
   "outputs": [
    {
     "name": "stdout",
     "output_type": "stream",
     "text": [
      "{'Spark', 'Sqoop', 'Hive'}\n"
     ]
    }
   ],
   "source": [
    "#sets são conjutos não ordenados de elementos não repetidos\n",
    "bigdata = {'Spark', 'Hive', \"Sqoop\"}\n",
    "print(bigdata)"
   ]
  },
  {
   "cell_type": "code",
   "execution_count": 15,
   "id": "14ba22ed-2f9e-4230-ae4e-2db10cad7db2",
   "metadata": {},
   "outputs": [
    {
     "name": "stdout",
     "output_type": "stream",
     "text": [
      "False\n"
     ]
    }
   ],
   "source": [
    "#verifica existencia\n",
    "print('Spark' in  bigdata)"
   ]
  },
  {
   "cell_type": "code",
   "execution_count": 16,
   "id": "95eb36ef-dfe0-43c9-ba85-0d856305deab",
   "metadata": {},
   "outputs": [
    {
     "data": {
      "text/plain": [
       "{'Hadoop', 'Hive', 'Spark', 'Sqoop'}"
      ]
     },
     "execution_count": 16,
     "metadata": {},
     "output_type": "execute_result"
    }
   ],
   "source": [
    "#adiciona elemento\n",
    "bigdata.add('Hadoop')\n",
    "bigdata"
   ]
  },
  {
   "cell_type": "code",
   "execution_count": 17,
   "id": "0e390e98-702e-4998-83a7-74965e1e1b9b",
   "metadata": {},
   "outputs": [
    {
     "name": "stdout",
     "output_type": "stream",
     "text": [
      "4\n"
     ]
    }
   ],
   "source": [
    "#numero de elementos\n",
    "print(len(bigdata))"
   ]
  },
  {
   "cell_type": "code",
   "execution_count": 18,
   "id": "7d196af6-cd5f-4144-ac9c-be9f8950710f",
   "metadata": {},
   "outputs": [
    {
     "data": {
      "text/plain": [
       "{'Hadoop', 'Hive', 'Spark', 'Sqoop'}"
      ]
     },
     "execution_count": 18,
     "metadata": {},
     "output_type": "execute_result"
    }
   ],
   "source": [
    "bigdata.add(\"Spark\")\n",
    "bigdata"
   ]
  },
  {
   "cell_type": "code",
   "execution_count": 22,
   "id": "e799ec89-edab-4c7c-bd69-e52f977b9be5",
   "metadata": {},
   "outputs": [
    {
     "data": {
      "text/plain": [
       "(1, 2, 3, 4, 5, 6, 7)"
      ]
     },
     "execution_count": 22,
     "metadata": {},
     "output_type": "execute_result"
    }
   ],
   "source": [
    "#tuplas são listas que não podem ser alteradas\n",
    "#listas usam[], tuplas usam ()\n",
    "tupla = (1,2,3,4,5,6,7)\n",
    "tupla"
   ]
  },
  {
   "cell_type": "code",
   "execution_count": 23,
   "id": "a11e13e3-3a88-42b9-b315-fbd23348a87f",
   "metadata": {},
   "outputs": [
    {
     "data": {
      "text/plain": [
       "5"
      ]
     },
     "execution_count": 23,
     "metadata": {},
     "output_type": "execute_result"
    }
   ],
   "source": [
    "tupla[4]"
   ]
  },
  {
   "cell_type": "code",
   "execution_count": 19,
   "id": "848cba7e-ff24-42cd-b81c-9d9cf346c310",
   "metadata": {},
   "outputs": [
    {
     "data": {
      "text/plain": [
       "{(0, 1): 0,\n",
       " (1, 2): 1,\n",
       " (2, 3): 2,\n",
       " (3, 4): 3,\n",
       " (4, 5): 4,\n",
       " (5, 6): 5,\n",
       " (6, 7): 6,\n",
       " (7, 8): 7,\n",
       " (8, 9): 8,\n",
       " (9, 10): 9}"
      ]
     },
     "execution_count": 19,
     "metadata": {},
     "output_type": "execute_result"
    }
   ],
   "source": [
    "dic2 = {(0, 1):0,(1, 2):1,(2,3):2,(3,4):3,(4,5):4,(5,6):5,(6,7):6,(7,8):7,(8,9):8,(9,10):9}\n",
    "dic2"
   ]
  },
  {
   "cell_type": "code",
   "execution_count": 24,
   "id": "2406a536-c34d-4731-bcd1-504d5fc56bb7",
   "metadata": {},
   "outputs": [
    {
     "name": "stdout",
     "output_type": "stream",
     "text": [
      "<class 'dict'>\n",
      "<class 'set'>\n",
      "<class 'tuple'>\n"
     ]
    }
   ],
   "source": [
    "print(type(notas))\n",
    "print(type(bigdata))\n",
    "print(type(tupla))"
   ]
  }
 ],
 "metadata": {
  "kernelspec": {
   "display_name": "Python 3 (ipykernel)",
   "language": "python",
   "name": "python3"
  },
  "language_info": {
   "codemirror_mode": {
    "name": "ipython",
    "version": 3
   },
   "file_extension": ".py",
   "mimetype": "text/x-python",
   "name": "python",
   "nbconvert_exporter": "python",
   "pygments_lexer": "ipython3",
   "version": "3.11.7"
  }
 },
 "nbformat": 4,
 "nbformat_minor": 5
}
