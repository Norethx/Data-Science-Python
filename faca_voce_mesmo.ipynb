{
 "cells": [
  {
   "cell_type": "code",
   "execution_count": 9,
   "id": "5b690e70-deb7-4cad-9513-f70056d45f52",
   "metadata": {},
   "outputs": [
    {
     "name": "stdout",
     "output_type": "stream",
     "text": [
      "44\n"
     ]
    }
   ],
   "source": [
    "#1. Faça um programa que tenha uma função chamada amplitude. A função deve receber uma lista e imprimir a amplitude.\n",
    "#Crie também um código para testar sua função\n",
    "def amplitude(x):\n",
    "    return max(x)-min(x)\n",
    "    \n",
    "h = amplitude([1,2,3,4,5,6,7,8,45])\n",
    "print(h)"
   ]
  },
  {
   "cell_type": "code",
   "execution_count": 12,
   "id": "90c324d6-9e79-4bed-a4f1-3aa20f9bc94f",
   "metadata": {},
   "outputs": [
    {
     "name": "stdout",
     "output_type": "stream",
     "text": [
      "p\n",
      "y\n",
      "t\n",
      "h\n",
      "o\n",
      "n\n"
     ]
    }
   ],
   "source": [
    "#2.faça uma função que receba uma string e imprima esta string na forma vertical\n",
    "#crie tambem um código para testar sua função\n",
    "def soletrar(x):\n",
    "    tam = len(x)\n",
    "    for tam in range(0,tam):\n",
    "        print(x[tam])\n",
    "\n",
    "soletrar('python')"
   ]
  },
  {
   "cell_type": "code",
   "execution_count": 19,
   "id": "80b543fc-ebb3-4563-98bf-101035a9dfa2",
   "metadata": {},
   "outputs": [
    {
     "name": "stdin",
     "output_type": "stream",
     "text": [
      "Coloque o valor do peso da carga. 20\n"
     ]
    },
    {
     "name": "stdout",
     "output_type": "stream",
     "text": [
      "o peso da carga é:  20\n",
      "o valor será R$ 80,00.\n"
     ]
    }
   ],
   "source": [
    "#3. Crie um programa que leia o peso de uma carga em números inteiros. Se o peso for 10 kg, informe que o valor será de \n",
    "# R$ 50,00. entre 11 e 20 kg, infome que o valor será de R$ 80. Se for maior que 20 informe que o transporte não é aceito. Teste Varios pesos.\n",
    "def peso(x):\n",
    "    x = int(x)\n",
    "    print('o peso da carga é: ', x)\n",
    "    if x <= 10:\n",
    "        print('o valor será R$ 50,00.')\n",
    "    elif x > 10 and x <= 20:\n",
    "        print('o valor será R$ 80,00.')\n",
    "    else:\n",
    "        print('transporte para o peso não aceito.')\n",
    "\n",
    "peso2 = input('Coloque o valor do peso da carga.')\n",
    "peso(peso2)"
   ]
  }
 ],
 "metadata": {
  "kernelspec": {
   "display_name": "Python 3 (ipykernel)",
   "language": "python",
   "name": "python3"
  },
  "language_info": {
   "codemirror_mode": {
    "name": "ipython",
    "version": 3
   },
   "file_extension": ".py",
   "mimetype": "text/x-python",
   "name": "python",
   "nbconvert_exporter": "python",
   "pygments_lexer": "ipython3",
   "version": "3.11.7"
  }
 },
 "nbformat": 4,
 "nbformat_minor": 5
}
